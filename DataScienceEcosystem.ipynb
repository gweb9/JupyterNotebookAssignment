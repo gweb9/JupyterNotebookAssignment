{
 "cells": [
  {
   "cell_type": "markdown",
   "id": "15c9b992",
   "metadata": {},
   "source": [
    "# Data Science Tools and Ecosystem"
   ]
  },
  {
   "cell_type": "markdown",
   "id": "cd4ba2c1",
   "metadata": {},
   "source": [
    "In this notebook, Data Science Tools and Ecosystem are summarized."
   ]
  },
  {
   "cell_type": "markdown",
   "id": "2c4782bd",
   "metadata": {},
   "source": [
    "**Objectives:**\n",
    "* Popular Data Scientists Languages\n",
    "* Common Data Sceientists Libraries\n",
    "* Data Science Tools\n",
    "* Basic Arithmetic\n"
   ]
  },
  {
   "cell_type": "markdown",
   "id": "7a601a49",
   "metadata": {},
   "source": [
    "Some of the popular languages that Data Scientists use are:\n",
    "1. Python\n",
    "2. Java\n",
    "3. C++\n",
    " \n"
   ]
  },
  {
   "cell_type": "markdown",
   "id": "07831a37",
   "metadata": {},
   "source": [
    "Some of the commonly used libraries used by Data Scientists include:"
   ]
  },
  {
   "cell_type": "markdown",
   "id": "7cb1363a",
   "metadata": {},
   "source": [
    "1. Pandas\n",
    "2. NumPy\n",
    "3. SciPy"
   ]
  },
  {
   "cell_type": "markdown",
   "id": "f1dd4f5c",
   "metadata": {},
   "source": [
    "| Data Science Tools |\n",
    "|:-----------------:|\n",
    "|  Jupyter Notebook  |\n",
    "|  Rstudio |\n",
    "|  Apache Spark      |"
   ]
  },
  {
   "cell_type": "markdown",
   "id": "0cd472a7",
   "metadata": {},
   "source": [
    "### Below are a few examples of evaluating arithmetic expressions in Python"
   ]
  },
  {
   "cell_type": "code",
   "execution_count": 2,
   "id": "11c6cded",
   "metadata": {},
   "outputs": [
    {
     "data": {
      "text/plain": [
       "17"
      ]
     },
     "execution_count": 2,
     "metadata": {},
     "output_type": "execute_result"
    }
   ],
   "source": [
    "#This a simple arithmetic expression to mutiply then add integers\n",
    "(3*4)+5"
   ]
  },
  {
   "cell_type": "code",
   "execution_count": 3,
   "id": "f2e91774",
   "metadata": {},
   "outputs": [
    {
     "data": {
      "text/plain": [
       "3.3333333333333335"
      ]
     },
     "execution_count": 3,
     "metadata": {},
     "output_type": "execute_result"
    }
   ],
   "source": [
    "#This will convert 200 minutes to hours by diving by 60\n",
    "200/60"
   ]
  },
  {
   "cell_type": "markdown",
   "id": "72fa0dec",
   "metadata": {},
   "source": [
    "## Author\n",
    "Vincent "
   ]
  },
  {
   "cell_type": "code",
   "execution_count": null,
   "id": "0c25a6d3",
   "metadata": {},
   "outputs": [],
   "source": []
  }
 ],
 "metadata": {
  "kernelspec": {
   "display_name": "Python 3",
   "language": "python",
   "name": "python3"
  },
  "language_info": {
   "codemirror_mode": {
    "name": "ipython",
    "version": 3
   },
   "file_extension": ".py",
   "mimetype": "text/x-python",
   "name": "python",
   "nbconvert_exporter": "python",
   "pygments_lexer": "ipython3",
   "version": "3.8.8"
  }
 },
 "nbformat": 4,
 "nbformat_minor": 5
}
